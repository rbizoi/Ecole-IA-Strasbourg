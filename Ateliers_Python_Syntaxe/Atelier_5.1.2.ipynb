{
 "cells": [
  {
   "cell_type": "markdown",
   "metadata": {},
   "source": [
    "## 5.1.2\n",
    "Écrivez un script qui recopie un fichier texte ou binaire en remplaçant tous ses espaces par le groupe de trois caractères -*-. Le fichier à copier sera fourni encodé selon la norme Latin-1, et le fichier destinataire devra être encodé en Utf-8. Le type du fichier source et les noms des 2 fichiers seront demandés en début de script."
   ]
  },
  {
   "cell_type": "code",
   "execution_count": 1,
   "metadata": {
    "collapsed": false
   },
   "outputs": [
    {
     "name": "stdout",
     "output_type": "stream",
     "text": [
      "Nom du fichier à traiter (Latin-1) : H:\\ScriptsPython\\fichierLatin.txt\n"
     ]
    }
   ],
   "source": [
    "import random\n",
    "fiSource = input(\"Nom du fichier à traiter (Latin-1) : \")\n",
    "fs = open(fiSource, 'w', encoding =\"Latin1\")\n",
    "\n",
    "for i in range(0,25) :\n",
    "    ch = \"Une ligne de code sans grand itères \"+str(random.random()*1000)+'\\n'\n",
    "    fs.write(ch)\n",
    "    \n",
    "fs.close()"
   ]
  },
  {
   "cell_type": "code",
   "execution_count": 13,
   "metadata": {
    "collapsed": false
   },
   "outputs": [
    {
     "name": "stdout",
     "output_type": "stream",
     "text": [
      "Nom du fichier source (Latin-1) : H:\\ScriptsPython\\fichierLatin.txt\n",
      "Nom du fichier destinataire (Utf-8) : H:\\ScriptsPython\\fichierUtf8.txt\n"
     ]
    }
   ],
   "source": [
    "def traiteLigne(ligne):\n",
    "    \"remplacement des espaces de la ligne de texte par '-*-' \"\n",
    "    newLine =\"\" # nouvelle chaîne à construire\n",
    "    c, m = 0, 0 # initialisations\n",
    "    while c < len(ligne): # lire tous les caractères de la ligne\n",
    "        if ligne[c] == \" \":\n",
    "            # Le caractère lu est un espace.\n",
    "            # On ajoute une 'tranche' à la chaîne en cours de construction :\n",
    "            newLine = newLine + ligne[m:c] + \"-*-\"\n",
    "            # On mémorise dans m la position atteinte dans la ligne lue :\n",
    "            m = c + 1 # ajouter 1 pour \"oublier\" l'espace\n",
    "        c = c + 1\n",
    "    # Ne pas oublier d'ajouter la 'tranche' suivant le dernier espace :\n",
    "    newLine = newLine + ligne[m:]\n",
    "    # Renvoyer la chaîne construite :\n",
    "    return newLine\n",
    "    \n",
    "# --- Programme principal : ---\n",
    "nomFS = input(\"Nom du fichier source (Latin-1) : \")\n",
    "nomFD = input(\"Nom du fichier destinataire (Utf-8) : \")\n",
    "fs = open(nomFS, 'r', encoding =\"Latin1\") # ouverture des 2 fichiers\n",
    "fd = open(nomFD, 'w', encoding =\"Utf8\") # dans les encodages spécifiés\n",
    "while 1: # boucle de traitement\n",
    "    li = fs.readline() # lecture d'une ligne\n",
    "    if li == \"\": # détection de la fin du fichier :\n",
    "        break # readline() renvoie une chaîne vide\n",
    "    fd.write(traiteLigne(li)) # traitement + écriture\n",
    "fd.close()\n",
    "fs.close()"
   ]
  },
  {
   "cell_type": "code",
   "execution_count": 18,
   "metadata": {
    "collapsed": false
   },
   "outputs": [
    {
     "name": "stdout",
     "output_type": "stream",
     "text": [
      "Nom du fichier destinataire (Utf-8) : H:\\ScriptsPython\\fichierUtf8.txt\n",
      "Une-*-ligne-*-de-*-code-*-sans-*-grand-*-itères-*-62.7912161394677\n",
      "Une-*-ligne-*-de-*-code-*-sans-*-grand-*-itères-*-976.8162387391652\n",
      "Une-*-ligne-*-de-*-code-*-sans-*-grand-*-itères-*-270.5800560003434\n",
      "Une-*-ligne-*-de-*-code-*-sans-*-grand-*-itères-*-792.6697081790273\n",
      "Une-*-ligne-*-de-*-code-*-sans-*-grand-*-itères-*-892.2507983361475\n",
      "Une-*-ligne-*-de-*-code-*-sans-*-grand-*-itères-*-222.4382283132016\n",
      "Une-*-ligne-*-de-*-code-*-sans-*-grand-*-itères-*-475.33064848889717\n",
      "Une-*-ligne-*-de-*-code-*-sans-*-grand-*-itères-*-534.536575580909\n",
      "Une-*-ligne-*-de-*-code-*-sans-*-grand-*-itères-*-223.17977445428505\n",
      "Une-*-ligne-*-de-*-code-*-sans-*-grand-*-itères-*-879.4462836967381\n",
      "Une-*-ligne-*-de-*-code-*-sans-*-grand-*-itères-*-499.31505060955016\n",
      "Une-*-ligne-*-de-*-code-*-sans-*-grand-*-itères-*-417.5586597236176\n",
      "Une-*-ligne-*-de-*-code-*-sans-*-grand-*-itères-*-790.3092960115838\n",
      "Une-*-ligne-*-de-*-code-*-sans-*-grand-*-itères-*-804.3973145208308\n",
      "Une-*-ligne-*-de-*-code-*-sans-*-grand-*-itères-*-214.65921937522202\n",
      "Une-*-ligne-*-de-*-code-*-sans-*-grand-*-itères-*-556.156756355899\n",
      "Une-*-ligne-*-de-*-code-*-sans-*-grand-*-itères-*-812.0092488494496\n",
      "Une-*-ligne-*-de-*-code-*-sans-*-grand-*-itères-*-908.3509075393907\n",
      "Une-*-ligne-*-de-*-code-*-sans-*-grand-*-itères-*-375.16306586615457\n",
      "Une-*-ligne-*-de-*-code-*-sans-*-grand-*-itères-*-313.04400927715614\n",
      "Une-*-ligne-*-de-*-code-*-sans-*-grand-*-itères-*-567.0942372738353\n",
      "Une-*-ligne-*-de-*-code-*-sans-*-grand-*-itères-*-887.6428272676113\n",
      "Une-*-ligne-*-de-*-code-*-sans-*-grand-*-itères-*-431.80076947351233\n",
      "Une-*-ligne-*-de-*-code-*-sans-*-grand-*-itères-*-394.82791988764575\n",
      "Une-*-ligne-*-de-*-code-*-sans-*-grand-*-itères-*-62.19809073606142\n",
      "\n"
     ]
    }
   ],
   "source": [
    "nomFD = input(\"Nom du fichier destinataire (Utf-8) : \")\n",
    "fd = open(nomFD, 'r', encoding =\"Utf8\")\n",
    "print(fd.read())\n",
    "fd.close()"
   ]
  }
 ],
 "metadata": {
  "kernelspec": {
   "display_name": "Python 3",
   "language": "python",
   "name": "python3"
  },
  "language_info": {
   "codemirror_mode": {
    "name": "ipython",
    "version": 3
   },
   "file_extension": ".py",
   "mimetype": "text/x-python",
   "name": "python",
   "nbconvert_exporter": "python",
   "pygments_lexer": "ipython3",
   "version": "3.6.0"
  }
 },
 "nbformat": 4,
 "nbformat_minor": 2
}
