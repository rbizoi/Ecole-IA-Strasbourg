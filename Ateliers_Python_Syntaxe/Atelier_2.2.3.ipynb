{
 "cells": [
  {
   "cell_type": "markdown",
   "metadata": {},
   "source": [
    "## 2.2.3\n",
    "Écrivez un programme qui à partir d’un caractère donné trouve l’index correspondant. Attention : il faut penser à tous les cas possibles. Il faut notamment veiller à ce que le caractère recherché n’existe pas dans la chaîne traitée. Les caractères accentués doivent être acceptés. Améliorez le traitement en lui ajoutant l’index à partir duquel la recherche doit s’effectuer dans la chaîne. "
   ]
  },
  {
   "cell_type": "code",
   "execution_count": 1,
   "metadata": {},
   "outputs": [
    {
     "name": "stdout",
     "output_type": "stream",
     "text": [
      "Une chaîne de caractères :César & Cléopâtre\n",
      "Un caractère :r\n",
      "le caractère est trouvé  4\n"
     ]
    }
   ],
   "source": [
    "# Rechercher l'indice d'un caractère donné dans une chaîne\n",
    "ch = input('Une chaîne de caractères :')\n",
    "car = input('Un caractère :')\n",
    "\n",
    "i = 0\n",
    "\n",
    "while i < len(ch):\n",
    "    if ch[i] == car:\n",
    "        print('le caractère est trouvé ',i)\n",
    "        break\n",
    "    i = i + 1\n",
    "    \n",
    "if i >= len(ch) :\n",
    "    print(\"le caractère n'est pas trouvé \")"
   ]
  }
 ],
 "metadata": {
  "kernelspec": {
   "display_name": "Python 3",
   "language": "python",
   "name": "python3"
  },
  "language_info": {
   "codemirror_mode": {
    "name": "ipython",
    "version": 3
   },
   "file_extension": ".py",
   "mimetype": "text/x-python",
   "name": "python",
   "nbconvert_exporter": "python",
   "pygments_lexer": "ipython3",
   "version": "3.6.5"
  }
 },
 "nbformat": 4,
 "nbformat_minor": 2
}
