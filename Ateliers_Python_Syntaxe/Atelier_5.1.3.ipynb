{
 "cells": [
  {
   "cell_type": "markdown",
   "metadata": {},
   "source": [
    "## 5.1.3\n",
    "Écrivez une fonction « voyelle », qui renvoie vrai si le caractère fourni en argument est une voyelle. Écrivez une fonction « compteVoyelles », qui renvoie le nombre de voyelles contenues dans une phrase donnée."
   ]
  },
  {
   "cell_type": "code",
   "execution_count": 2,
   "metadata": {
    "collapsed": true
   },
   "outputs": [],
   "source": [
    "def voyelle(car):\n",
    "    \"teste si le caractère <car> est une voyelle\"\n",
    "    if car in \"AEIOUYÀÉÈÊËÎÏÔÛÙaeiouyàéèêëîïôûù\":\n",
    "        return True\n",
    "    else:\n",
    "        return False"
   ]
  },
  {
   "cell_type": "code",
   "execution_count": 4,
   "metadata": {
    "collapsed": false
   },
   "outputs": [
    {
     "name": "stdout",
     "output_type": "stream",
     "text": [
      "g : False\n",
      "O : True\n",
      "à : True\n",
      "É : True\n",
      "s : False\n",
      "ù : True\n",
      "ï : True\n",
      "Ç : False\n"
     ]
    }
   ],
   "source": [
    "# Test :\n",
    "if __name__ == '__main__':\n",
    "    ch =\"gOàÉsùïÇ\" # lettres à tester\n",
    "    for c in ch:\n",
    "        print(c, \":\", voyelle(c))"
   ]
  },
  {
   "cell_type": "code",
   "execution_count": 5,
   "metadata": {
    "collapsed": true
   },
   "outputs": [],
   "source": [
    "def compteVoyelles(phrase):\n",
    "    \"compte les voyelles présentes dans la chaîne de caractères <phrase>\"\n",
    "    n = 0\n",
    "    for c in phrase:\n",
    "        if voyelle(c):\n",
    "            n = n + 1\n",
    "    return n"
   ]
  },
  {
   "cell_type": "code",
   "execution_count": 6,
   "metadata": {
    "collapsed": false
   },
   "outputs": [
    {
     "name": "stdout",
     "output_type": "stream",
     "text": [
      "La phrase <Maître corbeau sur un arbre perché> compte 13 voyelles.\n"
     ]
    }
   ],
   "source": [
    "# Test :\n",
    "if __name__ == '__main__':\n",
    "    texte =\"Maître corbeau sur un arbre perché\"\n",
    "    nv = compteVoyelles(texte)\n",
    "    print(\"La phrase <\", texte, \"> compte \", nv, \" voyelles.\", sep=\"\")"
   ]
  }
 ],
 "metadata": {
  "kernelspec": {
   "display_name": "Python 3",
   "language": "python",
   "name": "python3"
  },
  "language_info": {
   "codemirror_mode": {
    "name": "ipython",
    "version": 3
   },
   "file_extension": ".py",
   "mimetype": "text/x-python",
   "name": "python",
   "nbconvert_exporter": "python",
   "pygments_lexer": "ipython3",
   "version": "3.6.0"
  }
 },
 "nbformat": 4,
 "nbformat_minor": 2
}
