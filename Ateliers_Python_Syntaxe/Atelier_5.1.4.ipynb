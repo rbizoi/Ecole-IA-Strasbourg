{
 "cells": [
  {
   "cell_type": "markdown",
   "metadata": {},
   "source": [
    "## 5.1.4\n",
    "Explorez la gamme des caractères Unicode disponibles sur votre ordinateur, à l’aide de boucles de programmes similaires à celle que nous avons nous-mêmes utilisée pour afficher l’alphabet grec. Trouvez ainsi les codes correspondant à l’alphabet cyrillique, et écrivez un script qui affiche celui-ci en majuscules et en minuscules."
   ]
  },
  {
   "cell_type": "code",
   "execution_count": 1,
   "metadata": {
    "collapsed": false
   },
   "outputs": [
    {
     "name": "stdout",
     "output_type": "stream",
     "text": [
      "АБВГДЕЖЗИЙКЛМНОПРСТУФХЦЧШЩЪЫЬЭЮЯ\n",
      "абвгдежзийклмнопрстуфхцчшщъыьэюя\n"
     ]
    }
   ],
   "source": [
    "c = 1040 # code du premier caractère (majuscule)\n",
    "maju =\"\" # chaîne destinée aux majuscules\n",
    "minu =\"\" # chaîne destinée aux minuscules\n",
    "\n",
    "while c < 1072: # on se limitera à cette gamme\n",
    "    maju = maju + chr(c)\n",
    "    minu = minu + chr(c + 32) # voir exercices précédents\n",
    "    c = c+1\n",
    "    \n",
    "print(maju)\n",
    "print(minu)"
   ]
  }
 ],
 "metadata": {
  "kernelspec": {
   "display_name": "Python 3",
   "language": "python",
   "name": "python3"
  },
  "language_info": {
   "codemirror_mode": {
    "name": "ipython",
    "version": 3
   },
   "file_extension": ".py",
   "mimetype": "text/x-python",
   "name": "python",
   "nbconvert_exporter": "python",
   "pygments_lexer": "ipython3",
   "version": "3.6.0"
  }
 },
 "nbformat": 4,
 "nbformat_minor": 2
}
