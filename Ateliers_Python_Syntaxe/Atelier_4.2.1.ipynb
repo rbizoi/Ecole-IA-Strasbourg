{
 "cells": [
  {
   "cell_type": "markdown",
   "metadata": {},
   "source": [
    "## 4.2.1\n",
    "Considérons que vous avez à votre disposition un fichier texte contenant des phrases de différentes longueurs. Écrivez un script qui recherche et affiche la phrase la plus longue."
   ]
  },
  {
   "cell_type": "code",
   "execution_count": 2,
   "metadata": {
    "collapsed": true
   },
   "outputs": [],
   "source": [
    "def affichePhraseMax():\n",
    "    of = open(nomF, 'r')\n",
    "    ligneMax = \"\"\n",
    "    while 1:\n",
    "        ligne = of.readline()\n",
    "        if ligne == \"\":\n",
    "            break\n",
    "        if len(ligne) > len(ligneMax) :\n",
    "           ligneMax = ligne\n",
    "    of.close()\n",
    "    return ligneMax"
   ]
  },
  {
   "cell_type": "code",
   "execution_count": 3,
   "metadata": {},
   "outputs": [
    {
     "name": "stdout",
     "output_type": "stream",
     "text": [
      "Nom du fichier à traiter : H:\\ScriptsPython\\NouveauFichier.txt\n",
      "01 La premiere ligne\n",
      "\n"
     ]
    }
   ],
   "source": [
    "# test :\n",
    "nomF = input('Nom du fichier à traiter : ')\n",
    "print(affichePhraseMax())"
   ]
  }
 ],
 "metadata": {
  "kernelspec": {
   "display_name": "Python 3",
   "language": "python",
   "name": "python3"
  },
  "language_info": {
   "codemirror_mode": {
    "name": "ipython",
    "version": 3
   },
   "file_extension": ".py",
   "mimetype": "text/x-python",
   "name": "python",
   "nbconvert_exporter": "python",
   "pygments_lexer": "ipython3",
   "version": "3.6.5"
  }
 },
 "nbformat": 4,
 "nbformat_minor": 2
}
