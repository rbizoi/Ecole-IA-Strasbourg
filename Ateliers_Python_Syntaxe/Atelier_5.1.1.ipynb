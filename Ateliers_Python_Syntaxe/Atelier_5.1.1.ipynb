{
 "cells": [
  {
   "cell_type": "markdown",
   "metadata": {},
   "source": [
    "## 5.1.1\n",
    "Écrivez un petit script qui affiche une table des codes ASCII. Le programme doit afficher tous les caractères en regard des codes correspondants. À partir de cette table, établissez la relation numérique simple reliant chaque caractère majuscule au caractère minuscule correspondant."
   ]
  },
  {
   "cell_type": "code",
   "execution_count": 5,
   "metadata": {
    "collapsed": false
   },
   "outputs": [
    {
     "name": "stdout",
     "output_type": "stream",
     "text": [
      "Code 32 :   - Code 33 : ! - Code 34 : \" - Code 35 : # - Code 36 : $ - Code 37 : % - Code 38 : & - Code 39 : ' - Code 40 : ( - Code 41 : ) - Code 42 : * - Code 43 : + - Code 44 : , - Code 45 : - - Code 46 : . - Code 47 : / - Code 48 : 0 - Code 49 : 1 - Code 50 : 2 - Code 51 : 3 - Code 52 : 4 - Code 53 : 5 - Code 54 : 6 - Code 55 : 7 - Code 56 : 8 - Code 57 : 9 - Code 58 : : - Code 59 : ; - Code 60 : < - Code 61 : = - Code 62 : > - Code 63 : ? - Code 64 : @ - Code 65 : A - Code 66 : B - Code 67 : C - Code 68 : D - Code 69 : E - Code 70 : F - Code 71 : G - Code 72 : H - Code 73 : I - Code 74 : J - Code 75 : K - Code 76 : L - Code 77 : M - Code 78 : N - Code 79 : O - Code 80 : P - Code 81 : Q - Code 82 : R - Code 83 : S - Code 84 : T - Code 85 : U - Code 86 : V - Code 87 : W - Code 88 : X - Code 89 : Y - Code 90 : Z - Code 91 : [ - Code 92 : \\ - Code 93 : ] - Code 94 : ^ - Code 95 : _ - Code 96 : ` - Code 97 : a - Code 98 : b - Code 99 : c - Code 100 : d - Code 101 : e - Code 102 : f - Code 103 : g - Code 104 : h - Code 105 : i - Code 106 : j - Code 107 : k - Code 108 : l - Code 109 : m - Code 110 : n - Code 111 : o - Code 112 : p - Code 113 : q - Code 114 : r - Code 115 : s - Code 116 : t - Code 117 : u - Code 118 : v - Code 119 : w - Code 120 : x - Code 121 : y - Code 122 : z - Code 123 : { - Code 124 : | - Code 125 : } - Code 126 : ~ - Code 127 :  - "
     ]
    }
   ],
   "source": [
    "# Table des codes ASCII\n",
    "c = 32 # premier code ASCII <imprimable>\n",
    "while c < 128 : # dernier code strictement ASCII = 127\n",
    "    print(\"Code\", c, \":\", chr(c), end =\" - \")\n",
    "    c = c + 1"
   ]
  },
  {
   "cell_type": "code",
   "execution_count": 4,
   "metadata": {
    "collapsed": false
   },
   "outputs": [
    {
     "name": "stdout",
     "output_type": "stream",
     "text": [
      "Code 65 : A - a\n",
      "Code 66 : B - b\n",
      "Code 67 : C - c\n",
      "Code 68 : D - d\n",
      "Code 69 : E - e\n",
      "Code 70 : F - f\n",
      "Code 71 : G - g\n",
      "Code 72 : H - h\n",
      "Code 73 : I - i\n",
      "Code 74 : J - j\n",
      "Code 75 : K - k\n",
      "Code 76 : L - l\n",
      "Code 77 : M - m\n",
      "Code 78 : N - n\n",
      "Code 79 : O - o\n",
      "Code 80 : P - p\n",
      "Code 81 : Q - q\n",
      "Code 82 : R - r\n",
      "Code 83 : S - s\n",
      "Code 84 : T - t\n",
      "Code 85 : U - u\n",
      "Code 86 : V - v\n",
      "Code 87 : W - w\n",
      "Code 88 : X - x\n",
      "Code 89 : Y - y\n"
     ]
    }
   ],
   "source": [
    "c = 65 # premier code ASCII <imprimable>\n",
    "while c < 90 : \n",
    "    print(\"Code\", c, \":\", chr(c),\"-\", chr(c+32)) #, end =\" - \"\n",
    "    c = c + 1"
   ]
  }
 ],
 "metadata": {
  "kernelspec": {
   "display_name": "Python 3",
   "language": "python",
   "name": "python3"
  },
  "language_info": {
   "codemirror_mode": {
    "name": "ipython",
    "version": 3
   },
   "file_extension": ".py",
   "mimetype": "text/x-python",
   "name": "python",
   "nbconvert_exporter": "python",
   "pygments_lexer": "ipython3",
   "version": "3.6.0"
  }
 },
 "nbformat": 4,
 "nbformat_minor": 2
}
