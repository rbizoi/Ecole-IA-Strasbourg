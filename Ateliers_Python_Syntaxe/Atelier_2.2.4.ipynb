{
 "cells": [
  {
   "cell_type": "markdown",
   "metadata": {},
   "source": [
    "## 2.2.4\n",
    "Écrivez un programme qui compte le nombre d’occurrences d’un caractère donné dans une chaîne."
   ]
  },
  {
   "cell_type": "code",
   "execution_count": 2,
   "metadata": {},
   "outputs": [
    {
     "name": "stdout",
     "output_type": "stream",
     "text": [
      "Une chaîne de caractères :César & Cléopâtre\n",
      "Un caractère :r\n",
      "le caractère est trouvé  2\n"
     ]
    }
   ],
   "source": [
    "# Comptage des occurrences d'un caractère donné dans une chaîne\n",
    "ch = input('Une chaîne de caractères :')\n",
    "car = input('Un caractère :')\n",
    "  \n",
    "i, nc = 0, 0 # initialisations\n",
    "while i < len(ch):\n",
    "    if ch[i] == car:\n",
    "        nc = nc + 1 # caractère est trouvé -> on incrémente le compteur\n",
    "    i = i + 1\n",
    "\n",
    "if nc > 0 :\n",
    "   print('le caractère est trouvé ',nc)\n",
    "else :\n",
    "   print(\"le caractère n'est pas trouvé \")"
   ]
  }
 ],
 "metadata": {
  "kernelspec": {
   "display_name": "Python 3",
   "language": "python",
   "name": "python3"
  },
  "language_info": {
   "codemirror_mode": {
    "name": "ipython",
    "version": 3
   },
   "file_extension": ".py",
   "mimetype": "text/x-python",
   "name": "python",
   "nbconvert_exporter": "python",
   "pygments_lexer": "ipython3",
   "version": "3.6.5"
  }
 },
 "nbformat": 4,
 "nbformat_minor": 2
}
