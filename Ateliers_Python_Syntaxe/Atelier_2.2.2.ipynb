{
 "cells": [
  {
   "cell_type": "markdown",
   "metadata": {},
   "source": [
    "## 2.2.2\n",
    "Découpez une grande chaîne en fragments de 5 caractères chacun. Rassemblez ces morceaux dans l’ordre inverse. La chaîne doit pouvoir contenir des caractères accentués."
   ]
  },
  {
   "cell_type": "code",
   "execution_count": 2,
   "metadata": {},
   "outputs": [
    {
     "name": "stdout",
     "output_type": "stream",
     "text": [
      "chaîne initiale :\n",
      "abcdefghijklmnopqrstuvwxyz123456789âêîôûàèìòùáéíóú\n",
      "liste de fragments de 5 caractères :\n",
      "['abcde', 'fghij', 'klmno', 'pqrst', 'uvwxy', 'z1234', '56789', 'âêîôû', 'àèìòù', 'áéíóú']\n",
      "fragments rassemblés après inversion de la liste :\n",
      "áéíóúàèìòùâêîôû56789z1234uvwxypqrstklmnofghijabcde\n"
     ]
    }
   ],
   "source": [
    "n,ch =5,\"abcdefghijklmnopqrstuvwxyz123456789âêîôûàèìòùáéíóú\"\n",
    "d, f = 0, n # indices de début et de fin de fragment\n",
    "liste = [] # liste à construire\n",
    "while d < len(ch):\n",
    "    if f > len(ch): # on ne peut pas découper au-delà de la fin\n",
    "        f = len(ch)\n",
    "    fr = ch[d:f] # découpage d'un fragment\n",
    "    liste.append(fr) # ajout du fragment à la liste\n",
    "    d, f = f, f +n # indices suivants\n",
    "\n",
    "chInv = \"\" # chaîne à construire\n",
    "i = len(liste) # on commence par la fin de la liste\n",
    "while i > 0 :\n",
    "    i = i - 1 # le dernier élément possède l'indice n -1\n",
    "    chInv = chInv + liste[i]\n",
    "    \n",
    "print(\"chaîne initiale :\")\n",
    "print(ch)\n",
    "print(\"liste de fragments de 5 caractères :\")\n",
    "print(liste)\n",
    "print(\"fragments rassemblés après inversion de la liste :\")\n",
    "print(chInv)"
   ]
  }
 ],
 "metadata": {
  "kernelspec": {
   "display_name": "Python 3",
   "language": "python",
   "name": "python3"
  },
  "language_info": {
   "codemirror_mode": {
    "name": "ipython",
    "version": 3
   },
   "file_extension": ".py",
   "mimetype": "text/x-python",
   "name": "python",
   "nbconvert_exporter": "python",
   "pygments_lexer": "ipython3",
   "version": "3.6.5"
  }
 },
 "nbformat": 4,
 "nbformat_minor": 2
}
