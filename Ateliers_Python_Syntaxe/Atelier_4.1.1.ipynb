{
 "cells": [
  {
   "cell_type": "markdown",
   "metadata": {},
   "source": [
    "## 4.1.1\n",
    "Écrivez un script qui permette de créer et de relire aisément un fichier texte. Votre programme demandera d’abord à l’utilisateur d’entrer le nom du fichier. Ensuite il lui proposera le choix, soit d’enregistrer de nouvelles lignes de texte, soit d’afficher le contenu du fichier."
   ]
  },
  {
   "cell_type": "code",
   "execution_count": 2,
   "metadata": {
    "collapsed": true
   },
   "outputs": [],
   "source": [
    "def sansDC(ch):\n",
    "    \"cette fonction renvoie la chaîne ch amputée de son dernier caractère\"\n",
    "    nouv = \"\"\n",
    "    i, j = 0, len(ch) -1\n",
    "    while i < j:\n",
    "        nouv = nouv + ch[i]\n",
    "        i = i + 1\n",
    "    return nouv\n",
    "\n",
    "def ecrireDansFichier():\n",
    "    of = open(nomF, 'a')\n",
    "    while 1:\n",
    "        ligne = input(\"entrez une ligne de texte (ou <Enter>) : \")\n",
    "        if ligne == '':\n",
    "            break\n",
    "        else:\n",
    "            of.write(ligne + '\\n')\n",
    "    of.close()\n",
    "\n",
    "def lireDansFichier():\n",
    "    of = open(nomF, 'r')\n",
    "    while 1:\n",
    "        ligne = of.readline()\n",
    "        if ligne == \"\":\n",
    "            break\n",
    "        # afficher en omettant le dernier caractère (= fin de ligne) :\n",
    "        print(sansDC(ligne))\n",
    "    of.close()"
   ]
  },
  {
   "cell_type": "code",
   "execution_count": 4,
   "metadata": {},
   "outputs": [
    {
     "name": "stdout",
     "output_type": "stream",
     "text": [
      "Nom du fichier à traiter : H:\\ScriptsPython\\NouveauFichier.txt\n",
      "Entrez \"e\" pour écrire, \"c\" pour consulter les données : c\n",
      "01 La premiere ligne\n",
      "02 La deuxième\n",
      "03 La troisieme\n"
     ]
    }
   ],
   "source": [
    "nomF = input('Nom du fichier à traiter : ')\n",
    "choix = input('Entrez \"e\" pour écrire, \"c\" pour consulter les données : ')\n",
    "\n",
    "if choix =='e':\n",
    "    ecrireDansFichier()\n",
    "else:\n",
    "    lireDansFichier()"
   ]
  }
 ],
 "metadata": {
  "kernelspec": {
   "display_name": "Python 3",
   "language": "python",
   "name": "python3"
  },
  "language_info": {
   "codemirror_mode": {
    "name": "ipython",
    "version": 3
   },
   "file_extension": ".py",
   "mimetype": "text/x-python",
   "name": "python",
   "nbconvert_exporter": "python",
   "pygments_lexer": "ipython3",
   "version": "3.6.5"
  }
 },
 "nbformat": 4,
 "nbformat_minor": 2
}
