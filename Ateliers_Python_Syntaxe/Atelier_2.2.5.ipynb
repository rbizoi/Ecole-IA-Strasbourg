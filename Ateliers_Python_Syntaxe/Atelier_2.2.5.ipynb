{
 "cells": [
  {
   "cell_type": "markdown",
   "metadata": {},
   "source": [
    "## 2.2.5\n",
    "Écrivez un programme qui recherche le nombre de mots contenus dans une phrase donnée et qui ensuite les affiche par ordre alphabétique."
   ]
  },
  {
   "cell_type": "code",
   "execution_count": 2,
   "metadata": {},
   "outputs": [
    {
     "name": "stdout",
     "output_type": "stream",
     "text": [
      "Une chaîne de caractères :Les petits ruisseaux font les grandes rivières\n",
      "le nombre des mots  7\n"
     ]
    }
   ],
   "source": [
    "# Comptage du nombre de mots dans la chaîne ch\n",
    "ch = input('Une chaîne de caractères :')\n",
    "#ch = \"Les petits ruisseaux font les grandes rivières\"\n",
    "\n",
    "if len(ch) ==0:\n",
    "    print(\"ou est la chaîne ?\") \n",
    "nm = 1 # la chaîne comporte au moins un mot\n",
    "for c in ch:\n",
    "    if c == \" \": # il suffit de compter les espaces\n",
    "        nm = nm + 1\n",
    "\n",
    "if nm >= 1 :\n",
    "   print('le nombre des mots ',nm)"
   ]
  }
 ],
 "metadata": {
  "kernelspec": {
   "display_name": "Python 3",
   "language": "python",
   "name": "python3"
  },
  "language_info": {
   "codemirror_mode": {
    "name": "ipython",
    "version": 3
   },
   "file_extension": ".py",
   "mimetype": "text/x-python",
   "name": "python",
   "nbconvert_exporter": "python",
   "pygments_lexer": "ipython3",
   "version": "3.6.5"
  }
 },
 "nbformat": 4,
 "nbformat_minor": 2
}
