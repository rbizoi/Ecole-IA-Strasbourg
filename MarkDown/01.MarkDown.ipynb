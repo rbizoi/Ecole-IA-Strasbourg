{
 "cells": [
  {
   "cell_type": "markdown",
   "metadata": {},
   "source": [
    "# Titre 1"
   ]
  },
  {
   "cell_type": "markdown",
   "metadata": {},
   "source": [
    "## Titre 2"
   ]
  },
  {
   "cell_type": "markdown",
   "metadata": {},
   "source": [
    "### Titre 3\n",
    "\n",
    "- Les listes à puces sont en style Enum.\n",
    "- Les listes à puces sont en style Enum.\n",
    "- Les listes à puces sont en style Enum.\n",
    "- Les listes à puces sont en style Enum.\n"
   ]
  },
  {
   "cell_type": "markdown",
   "metadata": {
    "ExecuteTime": {
     "end_time": "2020-09-22T17:02:43.491494Z",
     "start_time": "2020-09-22T17:02:43.470483Z"
    }
   },
   "source": [
    "Le but de la régression linéaire est de trouver une fonction linéaire $f: \\mathbb{R}^{p} \\rightarrow \\mathbb{R}$ qui permette de prédire l'étiquette $y^{(i)}$ du i-ème point à partir du vecteur  $x^{(i)}$.\n",
    "\n",
    "$f(x) = \\theta_0 + \\theta_1 x_1 + \\theta_2 x_2 + \\dots + \\theta_p x_p$\n",
    "\n",
    "Comment trouver les valeurs des coefficients $\\theta_0,\\theta_1,\\theta_2, \\dots ,\\theta_p x_p$\n",
    "\n",
    "Calculons maintenant $\\theta$ à l’aide de l’équation normale. Nous allons utiliser la fonction **inv()** du module d’algèbre linéaire **np.linalg** de **NumPy** pour l’inversion de matrice, et la méthode **dot()** pour les produits matriciels"
   ]
  },
  {
   "cell_type": "markdown",
   "metadata": {},
   "source": [
    "$MAE = \\frac{1}{n} \\sum_{i=1}^{n} | f(x_i)-y_i | $"
   ]
  },
  {
   "cell_type": "markdown",
   "metadata": {},
   "source": [
    "$MSE = {\\frac{1}{n} \\sum_{i=1}^n (f(x_i)-y_i)^2}$"
   ]
  },
  {
   "cell_type": "markdown",
   "metadata": {},
   "source": [
    "$RMSE = \\sqrt{\\frac{1}{n} \\sum_{i=1}^n (f(x_i)-y_i)^2}$"
   ]
  },
  {
   "cell_type": "markdown",
   "metadata": {
    "ExecuteTime": {
     "end_time": "2020-09-22T17:07:21.757556Z",
     "start_time": "2020-09-22T17:07:21.743375Z"
    }
   },
   "source": [
    "$MSLE = {\\frac{1}{n} \\sum_{i=1}^n (\\log(f(x_i)+1) - \\log(y_i+1))^2}$"
   ]
  },
  {
   "cell_type": "markdown",
   "metadata": {},
   "source": [
    "$RMSLE = \\sqrt{\\frac{1}{n} \\sum_{i=1}^n (\\log(f(x_i)+1) - \\log(y_i+1))^2}$"
   ]
  },
  {
   "cell_type": "markdown",
   "metadata": {},
   "source": [
    "`taille_echantillon = 100`<br>\n",
    "`X = 2 * np.random.rand(taille_echantillon, 1)`<br>\n",
    "`y = 4 + 3 * X + np.random.randn(taille_echantillon, 1)`<br>"
   ]
  },
  {
   "cell_type": "markdown",
   "metadata": {
    "ExecuteTime": {
     "end_time": "2020-09-22T17:20:02.579509Z",
     "start_time": "2020-09-22T17:20:02.570494Z"
    }
   },
   "source": [
    "> `taille_echantillon = 100`<br>\n",
    ">> `X = 2 * np.random.rand(taille_echantillon, 1)`<br>\n",
    ">> `y = 4 + 3 * X + np.random.randn(taille_echantillon, 1)`<br>"
   ]
  },
  {
   "cell_type": "markdown",
   "metadata": {},
   "source": [
    "https://www.overleaf.com/learn/latex/Main_Page"
   ]
  },
  {
   "cell_type": "markdown",
   "metadata": {},
   "source": [
    "# Affichage image \n",
    "\n",
    "<img src=\"https://raw.githubusercontent.com/rbizoi/Spark-developper-pour-le-Big-Data/master/images/presentation.png\" width=\"400\">   \n",
    "\n"
   ]
  },
  {
   "cell_type": "markdown",
   "metadata": {},
   "source": [
    ">> ### metadonnees-donnees-hospitalieres-covid19 \n",
    "https://www.data.gouv.fr/fr/datasets/r/63352e38-d353-4b54-bfd1-f1b3ee1cabd7\n",
    ">>  <table>\n",
    ">>  <tr>                                                                                   \n",
    ">>      <th  style=\"text-align:left;background-color:#053061;color:white;\">Colonne          </th>\n",
    ">>      <th  style=\"text-align:left;background-color:#053061;color:white;\">Description      </th>\n",
    ">>      <th  style=\"text-align:left;background-color:#053061;color:white;\">donneeCumulDepFr </th>\n",
    ">>  </tr>\n",
    ">> <tr>\n",
    ">> <th  style=\"text-align:left;\">dep</th>\n",
    ">> <th style=\"text-align:left;\">Département</th>\n",
    ">> <th style=\"text-align:left;\">DepartementN</th>\n",
    ">> </tr>\n",
    ">> <tr>\n",
    ">> <th  style=\"text-align:left;\">sexe</th>\n",
    ">> <th style=\"text-align:left;\">Sexe</th>\n",
    ">> <th style=\"text-align:left;\">Sexe</th>\n",
    ">> </tr>\n",
    ">> <tr>\n",
    ">> <th  style=\"text-align:left;\">jour</th>\n",
    ">> <th style=\"text-align:left;\">Date de notification</th>\n",
    ">> <th style=\"text-align:left;\">Date</th>\n",
    ">> </tr>\n",
    ">> <tr>\n",
    ">> <th  style=\"text-align:left;\">hosp</th>\n",
    ">> <th style=\"text-align:left;\">Nombre de personnes actuellement hospitalisées</th>\n",
    ">> <th style=\"text-align:left;\">Hospitalises</th>\n",
    ">> </tr>\n",
    ">> <tr>\n",
    ">> <th  style=\"text-align:left;\">rea</th>\n",
    ">> <th style=\"text-align:left;\">Nombre de personnes actuellement en réanimation ou soins intensifs</th>\n",
    ">> <th style=\"text-align:left;\">Reanimation</th>\n",
    ">> </tr>\n",
    ">> <tr>\n",
    ">> <th  style=\"text-align:left;\">rad</th>\n",
    ">> <th style=\"text-align:left;\">Nombre cumulé de personnes retournées à domicile</th>\n",
    ">> <th style=\"text-align:left;\">Gueris</th>\n",
    ">> </tr>\n",
    ">> <tr>\n",
    ">> <th  style=\"text-align:left;\">dc</th>\n",
    ">> <th style=\"text-align:left;\">Nombre cumulé de personnes décédées à l'hôpital</th>\n",
    ">> <th style=\"text-align:left;\">Decedes</th>\n",
    ">> </tr>\n",
    ">>  </table>"
   ]
  }
 ],
 "metadata": {
  "kernelspec": {
   "display_name": "Python 3",
   "language": "python",
   "name": "python3"
  },
  "language_info": {
   "codemirror_mode": {
    "name": "ipython",
    "version": 3
   },
   "file_extension": ".py",
   "mimetype": "text/x-python",
   "name": "python",
   "nbconvert_exporter": "python",
   "pygments_lexer": "ipython3",
   "version": "3.7.5"
  }
 },
 "nbformat": 4,
 "nbformat_minor": 2
}
